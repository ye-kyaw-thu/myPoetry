{
 "cells": [
  {
   "cell_type": "markdown",
   "id": "b4441a15",
   "metadata": {},
   "source": [
    "# Statistical Language Model Building with myPoetry Corpus (Ver. 1.0)\n",
    "\n",
    "Ye Kyaw Thu  \n",
    "Lab Leader, Language Understanding Lab., Myanmar  \n",
    "Visiting Professor, NECTEC, Thailand  \n",
    "Date: 20 April 2023  "
   ]
  },
  {
   "cell_type": "markdown",
   "id": "29a08ded",
   "metadata": {},
   "source": [
    "## Corpus Info"
   ]
  },
  {
   "cell_type": "code",
   "execution_count": 2,
   "id": "68fd9281",
   "metadata": {},
   "outputs": [
    {
     "name": "stdout",
     "output_type": "stream",
     "text": [
      "kabyar_notitle_char  statistical-LM-for-myPoetry.ipynb\ttrain.txt  valid.txt\n"
     ]
    }
   ],
   "source": [
    "!ls"
   ]
  },
  {
   "cell_type": "code",
   "execution_count": 3,
   "id": "d6f4ac26",
   "metadata": {},
   "outputs": [
    {
     "name": "stdout",
     "output_type": "stream",
     "text": [
      "  41995   91907 2919457 train.txt\n"
     ]
    }
   ],
   "source": [
    "!wc train.txt"
   ]
  },
  {
   "cell_type": "code",
   "execution_count": 4,
   "id": "d1425d2e",
   "metadata": {},
   "outputs": [
    {
     "name": "stdout",
     "output_type": "stream",
     "text": [
      "  4937   8769 328766 valid.txt\n"
     ]
    }
   ],
   "source": [
    "!wc valid.txt"
   ]
  },
  {
   "cell_type": "code",
   "execution_count": 5,
   "id": "f0d18026",
   "metadata": {},
   "outputs": [
    {
     "name": "stdout",
     "output_type": "stream",
     "text": [
      "ဘယ်လိုပြောလိုက်တာလဲ\n",
      "ဘယ်လိုများပြောနိုင်စွမ်းရတာလဲ\n",
      "ငါတို့နှလုံးသားနက်ရှိုင်းမှုထဲက အချစ်\n",
      "ငါတို့အသွေးအသားထဲပျော်ဝင်နေတဲ့ အချစ်\n",
      "ငါတို့အသက်ရှုသံတွေထဲက အချစ်\n",
      "ဘယ်သူကတားမြစ်သလဲ\n",
      "စွန့်ရခြင်းကို ငါမုန်းတယ်။\n",
      "မျှော်လင့်ချက်ဟာ\n",
      "မျက်ရည်စက်တွေကို သောက်လို့\n",
      "ကြေကွဲဖို့ ခြေလှမ်းပြင်နေလေရဲ့။\n"
     ]
    }
   ],
   "source": [
    "!tail train.txt"
   ]
  },
  {
   "cell_type": "code",
   "execution_count": 7,
   "id": "4cd8878e",
   "metadata": {},
   "outputs": [
    {
     "name": "stdout",
     "output_type": "stream",
     "text": [
      "ကြက်ဖ သာလျှင်\n",
      "အာရုဏ်ရောင်လှ ၊ ဝင်းဝါကြ၏ ။\n",
      "ဥဩ သာလျှင်\n",
      "ရာသီနွေလ ၊ ဖူးပွင့်ကြ၏ ။\n",
      "ဖားငယ် သာလျှင်\n",
      "အာကာမိုးက ၊ မိုးရွာကြ၏ ။\n",
      "တက်လူ သာလျှင်\n",
      "မြန်မာပြည်လှ ၊ အားသစ်ရ၍\n",
      "ဇေယျအောင်လံ ထူမည်တည်း ။\n",
      "\n",
      "ဤနေရာတွင်\n",
      "ညောင်ညိုပင်၏ ၊ မြေပြင်ခြေရင်း\n",
      "မြစ်ပါးပျဉ်းသည် ၊ သက်ဆင်းလူးလွန့်\n",
      "မြွေသို့တွန့်၏ ။\n",
      "ဤနေရာတွင်\n",
      "ပိန္နဲ့ပင်ဝယ် ၊ ရှဉ့်ရင်ပေါ့ပါး\n",
      "မြီးဖားဖားသည် ၊ ရွက်ကြားခက်လက်\n",
      "လျှပ်သို့လက်၏ ။\n",
      "ဤနေရာတွင်\n",
      "ထန်းနှစ်ပင်သည် ၊ တူယှဉ်ပြိုင်မြင့်\n",
      "ရွက်ဝန်းဖွင့်၍ ၊ အကျင့်သိက္ခာ\n",
      "ရှင်သို့သာတည့် ။\n",
      "ဤနေရာတွင်\n",
      "စေတီရှင်သည် ၊ ဖြူစင်မောက်မို့\n",
      "ကြားဖူးသို့တည့် ။\n",
      "ဤနေရာတွင်\n",
      "ထက်ကောင်းကင်ဝယ် ၊ လေညင်ခတ်တီး\n",
      "စေတီထီးမှ ၊ ဆည်းလည်းသံရွှင်\n",
      "မိုးကျသွင်တည့် ။\n",
      "ဤသို့သံသာ ၊ ဤရုပ်ဝါသည်\n",
      "ငါ့မှာသတိ မြဲခဲ့၏ ။\n",
      "\n",
      "ရွှေမန်းဆို တောင်တော်ဦးက\n",
      "ကျူးလာတဲ့ မိုးသံငယ်\n",
      "အုန်းညံခြိမ့်ကြွေးလေ့ ။\n",
      "တာတော်ခွင်\n",
      "ရေဝင်အောင် ရွှေကတွတ်ကို\n",
      "မင်းလွှတ်ခဲ့လေး ။\n",
      "\n",
      "ပျိုလေးတို့ရွာ ၊ သာပါစမေး ။\n",
      "သာပါတယ် ၊ ရွာလယ်လမ်းမှာ\n",
      "ပန်းတွေနှင့်မွှေး ။\n",
      "ပျိုလေးတို့ရွာ ၊ သာပါစမေး ။\n",
      "သာပါတယ်၊ နေညိုစောင်းယင်\n",
      "ဒေါင်းတွန်သံကြွေး ။\n",
      "မောင်ကြီး လာခဲ့ယင်\n",
      "မြောက်ပြင်မှာမေး ။\n",
      "မြောက်ပြင်က အိမ်စဉ်တန်းမှာ\n",
      "ပန်းခြုံနှင့်လေး ။\n",
      "ပန်းခြုံနှင့်အိမ်ကိုဝင်ယင်\n"
     ]
    }
   ],
   "source": [
    "!head -n 50 train.txt"
   ]
  },
  {
   "cell_type": "code",
   "execution_count": 6,
   "id": "77ac8774",
   "metadata": {},
   "outputs": [
    {
     "name": "stdout",
     "output_type": "stream",
     "text": [
      "ဝေဆာ စိမ်းလန်း ပါသတည်း။\n",
      "စမ်းကိုကြည့်၍\n",
      "ရေးမိလေရာ၊ ငါ့ကဗျာသည်\n",
      "သာယာ ငြိမ့်ညောင်း ပါသတည်း။\n",
      "ပန်းကိုကြည့်၍\n",
      "ရေးမိလေရာ၊ ငါ့ကဗျာသည်\n",
      "နံ့သာပေါင်းစုံ မွှေးသတည်း။\n",
      "မုန်းသူကိုကြည့်၊ စိတ်အသိနှင့်\n",
      "ရေးမိရေးရာ၊ ငါ့ကဗျာမူ\n",
      "ဘဇာ အသို့ရှိအံ့နည်း။\n"
     ]
    }
   ],
   "source": [
    "!tail valid.txt"
   ]
  },
  {
   "cell_type": "markdown",
   "id": "3d9f4d55",
   "metadata": {},
   "source": [
    "## Prepared Two Perl Scripts\n",
    "\n",
    "I prepared two perl scripts, sylbreak.pl (for syllable breaking) and clean-space.pl (for cleaning double spaces)."
   ]
  },
  {
   "cell_type": "code",
   "execution_count": 8,
   "id": "de24b18b",
   "metadata": {},
   "outputs": [
    {
     "name": "stdout",
     "output_type": "stream",
     "text": [
      "clean-space.pl\t     statistical-LM-for-myPoetry.ipynb\ttrain.txt\n",
      "kabyar_notitle_char  sylbreak.pl\t\t\tvalid.txt\n"
     ]
    }
   ],
   "source": [
    "!ls"
   ]
  },
  {
   "cell_type": "markdown",
   "id": "8ed4c2ce",
   "metadata": {},
   "source": [
    "## Syllable Breaking"
   ]
  },
  {
   "cell_type": "code",
   "execution_count": 9,
   "id": "c4235620",
   "metadata": {},
   "outputs": [],
   "source": [
    "!perl ./sylbreak.pl -i ./train.txt -s \" \" > train.syl"
   ]
  },
  {
   "cell_type": "code",
   "execution_count": 10,
   "id": "c03da9c6",
   "metadata": {},
   "outputs": [],
   "source": [
    "!perl ./clean-space.pl ./train.syl > train.syl.clean"
   ]
  },
  {
   "cell_type": "code",
   "execution_count": 11,
   "id": "bb26ca98",
   "metadata": {},
   "outputs": [
    {
     "name": "stdout",
     "output_type": "stream",
     "text": [
      "  41995   91907 2919457 train.txt\n",
      "  41995  329849 3157399 train.syl.clean\n",
      "  83990  421756 6076856 total\n"
     ]
    }
   ],
   "source": [
    "!wc train.{txt,syl.clean}"
   ]
  },
  {
   "cell_type": "markdown",
   "id": "313ec95e",
   "metadata": {},
   "source": [
    "Syllable breaking and space cleaning for valid.txt file.  "
   ]
  },
  {
   "cell_type": "code",
   "execution_count": 12,
   "id": "a7d0b195",
   "metadata": {},
   "outputs": [],
   "source": [
    "!perl ./sylbreak.pl -i ./valid.txt -s \" \" > valid.syl"
   ]
  },
  {
   "cell_type": "code",
   "execution_count": 13,
   "id": "48ce3dc6",
   "metadata": {},
   "outputs": [],
   "source": [
    "!perl ./clean-space.pl ./valid.syl > valid.syl.clean"
   ]
  },
  {
   "cell_type": "code",
   "execution_count": 14,
   "id": "ca728414",
   "metadata": {},
   "outputs": [
    {
     "name": "stdout",
     "output_type": "stream",
     "text": [
      "  4937   8769 328766 valid.txt\n",
      "  4937  37664 357661 valid.syl.clean\n",
      "  9874  46433 686427 total\n"
     ]
    }
   ],
   "source": [
    "!wc valid.{txt,syl.clean}"
   ]
  },
  {
   "cell_type": "markdown",
   "id": "c4894140",
   "metadata": {},
   "source": [
    "Let's check the syllable separated train and valid files ...  "
   ]
  },
  {
   "cell_type": "code",
   "execution_count": 15,
   "id": "c695e1d3",
   "metadata": {},
   "outputs": [
    {
     "name": "stdout",
     "output_type": "stream",
     "text": [
      "ကြက် ဖ သာ လျှင်\n",
      "အာ ရုဏ် ရောင် လှ ၊ ဝင်း ဝါ ကြ ၏ ။\n",
      "ဥ ဩ သာ လျှင်\n",
      "ရာ သီ နွေ လ ၊ ဖူး ပွ င့် ကြ ၏ ။\n",
      "ဖား ငယ် သာ လျှင်\n",
      "အာ ကာ မိုး က ၊ မိုး ရွာ ကြ ၏ ။\n",
      "တက် လူ သာ လျှင်\n",
      "မြန် မာ ပြည် လှ ၊ အား သစ် ရ ၍\n",
      "ဇေ ယျ အောင် လံ ထူ မည် တည်း ။\n",
      "\n"
     ]
    }
   ],
   "source": [
    "!head ./train.syl.clean"
   ]
  },
  {
   "cell_type": "code",
   "execution_count": 16,
   "id": "db85a683",
   "metadata": {},
   "outputs": [
    {
     "name": "stdout",
     "output_type": "stream",
     "text": [
      "ဘယ် လို ပြော လိုက် တာ လဲ\n",
      "ဘယ် လို များ ပြော နိုင် စွမ်း ရ တာ လဲ\n",
      "ငါ တို့ နှ လုံး သား နက် ရှိုင်း မှု ထဲ က အ ချစ်\n",
      "ငါ တို့ အ သွေး အ သား ထဲ ပျော် ဝင် နေ တဲ့ အ ချစ်\n",
      "ငါ တို့ အ သက် ရှု သံ တွေ ထဲ က အ ချစ်\n",
      "ဘယ် သူ က တား မြစ် သ လဲ\n",
      "စွ န့် ရ ခြင်း ကို ငါ မုန်း တယ် ။\n",
      "မျှော် လ င့် ချက် ဟာ\n",
      "မျက် ရည် စက် တွေ ကို သောက် လို့\n",
      "ကြေ ကွဲ ဖို့ ခြေ လှမ်း ပြင် နေ လေ ရဲ့ ။\n"
     ]
    }
   ],
   "source": [
    "!tail ./train.syl.clean"
   ]
  },
  {
   "cell_type": "code",
   "execution_count": 17,
   "id": "fb8f3bf1",
   "metadata": {},
   "outputs": [
    {
     "name": "stdout",
     "output_type": "stream",
     "text": [
      "အ ရင် က လို ပါ ပဲ\n",
      "သစ် ပင် တွေ သစ် ရိပ် ပြို ကွဲ\n",
      "နေ က ပက် ကြား အက် တွေ ကို အား ဖြ ည့်\n",
      "ကတ္တ ရာ လမ်း မ တွေ ပျော် ကျ\n",
      "မြင် တွေ့ ရ သ မျှ အ ရာ ဝတ္တု တိုင်း က\n",
      "မီး တောက် ကို စား သောက် ထား ကြ သ လို မျိုး ။\n",
      "လ ရောင် ကို ခိုး ယူ လို့\n",
      "ဘ ဝ အ တွက် စိုက် ပျိုး ချင် သူ တွေ တောင်\n",
      "တံ လှပ် တော မှာ ရေ ရှာ ကြ\n",
      "သ ရက် ပွ င့် တို့ အ ခါ အ ခွ င့် သ င့် ကြ ။\n"
     ]
    }
   ],
   "source": [
    "!head ./valid.syl.clean"
   ]
  },
  {
   "cell_type": "code",
   "execution_count": 18,
   "id": "76807837",
   "metadata": {},
   "outputs": [
    {
     "name": "stdout",
     "output_type": "stream",
     "text": [
      "ဝေ ဆာ စိမ်း လန်း ပါ သ တည်း ။\n",
      "စမ်း ကို ကြ ည့် ၍\n",
      "ရေး မိ လေ ရာ ၊ ငါ့ က ဗျာ သည်\n",
      "သာ ယာ ငြိ မ့် ညောင်း ပါ သ တည်း ။\n",
      "ပန်း ကို ကြ ည့် ၍\n",
      "ရေး မိ လေ ရာ ၊ ငါ့ က ဗျာ သည်\n",
      "နံ့ သာ ပေါင်း စုံ မွှေး သ တည်း ။\n",
      "မုန်း သူ ကို ကြ ည့် ၊ စိတ် အ သိ နှ င့်\n",
      "ရေး မိ ရေး ရာ ၊ ငါ့ က ဗျာ မူ\n",
      "ဘ ဇာ အ သို့ ရှိ အံ့ နည်း ။\n"
     ]
    }
   ],
   "source": [
    "!tail ./valid.syl.clean"
   ]
  },
  {
   "cell_type": "markdown",
   "id": "7f8c278e",
   "metadata": {},
   "source": [
    "## Classical LM Building with SRILM toolkit\n",
    "\n",
    "I wanna see/check 5-gram LM PPL of myPoetry corpus ...  "
   ]
  },
  {
   "cell_type": "code",
   "execution_count": 19,
   "id": "ed955f3e",
   "metadata": {},
   "outputs": [
    {
     "name": "stdout",
     "output_type": "stream",
     "text": [
      "\n",
      "real\t0m1.692s\n",
      "user\t0m1.256s\n",
      "sys\t0m0.052s\n"
     ]
    }
   ],
   "source": [
    "!time ngram-count -kndiscount -interpolate -text ./train.syl.clean -order 5 -lm mypoetry-5gram.lm"
   ]
  },
  {
   "cell_type": "markdown",
   "id": "53c64c6e",
   "metadata": {},
   "source": [
    "ARPA format of LM is as follows:  "
   ]
  },
  {
   "cell_type": "code",
   "execution_count": 20,
   "id": "32c6354e",
   "metadata": {},
   "outputs": [
    {
     "name": "stdout",
     "output_type": "stream",
     "text": [
      "\n",
      "\\data\\\n",
      "ngram 1=2951\n",
      "ngram 2=91792\n",
      "ngram 3=34795\n",
      "ngram 4=18622\n",
      "ngram 5=12054\n",
      "\n",
      "\\1-grams:\n",
      "-4.505682\t!\t-0.2738729\n",
      "-3.185632\t\"\t-0.3089735\n",
      "-2.586474\t'\t-0.3948537\n",
      "-4.82934\t'င်\t-0.1522896\n",
      "-3.137606\t(\t-0.2049314\n",
      "-4.82934\t(ခ်\t-0.1522896\n",
      "-3.968708\t(စ်\t-0.8462361\n",
      "-4.82934\t(တ်\t-0.1522896\n",
      "-4.82934\t(န်\t-0.1522896\n",
      "-4.505682\t(လ်\t-0.3233573\n",
      "-4.82934\t(သ်\t-0.1522896\n",
      "-2.849313\t)\t-0.4001703\n",
      "-2.829697\t,\t-0.212072\n",
      "-2.959064\t-\t-0.2774782\n",
      "-2.339695\t.\t-0.6539471\n",
      "-4.82934\t.’\t-0.1522896\n",
      "-4.82934\t.”\t-0.1522896\n",
      "-3.517746\t/\t-0.2041354\n",
      "-4.82934\t0\t-0.1522896\n",
      "-4.691354\t1\t-0.1522896\n",
      "-4.505682\t3\t-0.1522896\n",
      "-4.82934\t7\t-0.1522896\n",
      "-4.505682\t:\t-0.1522896\n",
      "-1.854963\t</s>\n",
      "-99\t<s>\t-1.268509\n",
      "-4.691354\t=\t-0.1522896\n",
      "-4.691354\t?\t-0.2142934\n",
      "-4.067107\tA\t-0.2103208\n",
      "-4.691354\tB\t-0.1522896\n",
      "-4.067107\tC\t-0.2021808\n",
      "-4.375657\tD\t-0.1522896\n",
      "-4.275723\tE\t-0.1522896\n",
      "-4.691354\tF\t-0.1522896\n",
      "-4.194538\tG\t-0.1745167\n",
      "-4.275723\tH\t-0.1522896\n",
      "-4.375657\tI\t-0.2466806\n",
      "-4.82934\tK\t-0.1522896\n",
      "-4.505682\tL\t-0.2142934\n",
      "-4.375657\tM\t-0.3258618\n",
      "-4.275723\tN\t-0.1884203\n",
      "-4.691354\tO\t-0.1522896\n"
     ]
    }
   ],
   "source": [
    "!head -n 50 ./mypoetry-5gram.lm"
   ]
  },
  {
   "cell_type": "markdown",
   "id": "2019835c",
   "metadata": {},
   "source": [
    "I haven't remove some English text that containing in Myanmar language (Burmese) poems and thus you can see some English alphabets inside our language model ... "
   ]
  },
  {
   "cell_type": "code",
   "execution_count": 21,
   "id": "d52c5871",
   "metadata": {},
   "outputs": [
    {
     "name": "stdout",
     "output_type": "stream",
     "text": [
      "-0.06886981\tသ တိ ထား ၍ </s>\n",
      "-0.04516289\tတ နာ ထား ၍ </s>\n",
      "-0.07168656\tလယ် ပိုး ထိ ၍ </s>\n",
      "-0.6493211\tပျိုး ခင်း ထောင် ၍ နေ\n",
      "-0.156922\tယု ယ ထွေး ၍ </s>\n",
      "-0.08462568\tတိုက် ဖျက် နွံ ၍ </s>\n",
      "-0.8349815\tထို့ ထက် ပို ၍ အေး\n",
      "-0.09631282\tလက် ဆောင် ပေး ၍ </s>\n",
      "-0.09631282\tဆုံး ဖြတ် ပေး ၍ </s>\n",
      "-0.08840193\tအ လှ ပျက် ၍ </s>\n",
      "-0.6603318\tကျေး ဇူး ပြု ၍ နား\n",
      "-0.08840193\tကောင် ထည် ဖော် ၍ </s>\n",
      "-0.07502237\tကြိုး ကို ဖြတ် ၍ </s>\n",
      "-0.5457309\tကံ ဆွယ် ဖြား ၍ ၊\n",
      "-0.07168656\tစိတ် ထား ဖြူ ၍ </s>\n",
      "-0.1112103\tအံ့ စိုး မိ ၍ ။\n",
      "-0.1478087\tတောင် ကို မိုး ၍ </s>\n",
      "-0.156922\tလျှပ် လည်း ရှင် ၍ </s>\n",
      "-0.1011485\tမ နာ လို ၍ </s>\n",
      "-0.659437\t<s> နေ လိုက် ၍ ကာ\n",
      "-0.1853534\tပျံ့ ပျံ့ သင်း ၍ </s>\n",
      "-0.08840193\tနှ င့် အပ် ၍ </s>\n",
      "-0.1156563\tရယ် မော ကြ ၏ ။\n",
      "-0.4441867\t<s> ဆောင် ကြဉ်း ၏ ။\n",
      "-0.09316383\tငါ ယုံ ကြည် ၏ ။\n",
      "-0.2640338\tမူ ၊ ငါ ၏ တူ\n",
      "-0.09023477\tသိ နှ င့် ၏ ။\n",
      "-0.1683453\tကောင်း သ င့် ၏ ။\n",
      "-0.104116\tကျောင်း သား ဆို ၏ </s>\n",
      "-0.1317971\tလို့ နေ တော့ ၏ ။\n",
      "-0.08741398\tစော င့် နေ ၏ ။\n",
      "-0.1355119\tရ ရှိ နေ ၏ ။\n",
      "-0.5690426\tည့် ၊ ပန်း ၏ အ\n",
      "-0.2014231\tလည်း မှန် ပါ ၏ ။\n",
      "-0.1263424\tည့် ရ ပါ ၏ ။\n",
      "-0.05086851\tရှား လှ ပါ ၏ ။\n",
      "-0.3343058\tရာ့ ကျွန် မ ၏ </s>\n",
      "-0.07606626\tမည် ထင် မိ ၏ ။\n",
      "-0.07606626\t၏ မှတ် မိ ၏ ။\n",
      "-0.1120553\tဆို တော် မူ ၏ </s>\n",
      "-0.0950068\tများ လည်း များ ၏ </s>\n",
      "-0.2033521\tသ တိ မြဲ ၏ ။\n",
      "-0.1279425\tခွ င့် ရ ၏ ။\n",
      "-0.3181812\tလင်း အာ ရုဏ် ၏ </s>\n",
      "-0.4441867\tလှ ည့် လည် ၏ ။\n",
      "-0.3293118\tငို ချင် လှ ၏ အို\n",
      "-0.2046573\tများ ဖြစ် သွား ၏ ။\n",
      "-0.659853\tလူ တစ် ဦး ၏ သွင်\n",
      "\n",
      "\\end\\\n"
     ]
    }
   ],
   "source": [
    "!tail -n 50 ./mypoetry-5gram.lm"
   ]
  },
  {
   "cell_type": "markdown",
   "id": "6280aba2",
   "metadata": {},
   "source": [
    "## Evaluation on 5-gram Language Model"
   ]
  },
  {
   "cell_type": "code",
   "execution_count": 22,
   "id": "e0282e45",
   "metadata": {},
   "outputs": [
    {
     "name": "stdout",
     "output_type": "stream",
     "text": [
      "file ./valid.syl.clean: 4755 sentences, 37664 words, 186 OOVs\n",
      "0 zeroprobs, logprob= -84803.13 ppl= 101.8551 ppl1= 183.1236\n"
     ]
    }
   ],
   "source": [
    "!ngram -lm ./mypoetry-5gram.lm -ppl ./valid.syl.clean"
   ]
  },
  {
   "cell_type": "markdown",
   "id": "27790be0",
   "metadata": {},
   "source": [
    "For language model building our current corpus size is very small and domain is Burmese poetry. However, I am sure this is the first statistical LM evaluation result for our Burmese poetry data.  \n"
   ]
  },
  {
   "cell_type": "markdown",
   "id": "3968ee6a",
   "metadata": {},
   "source": [
    "## Debugging with 10 Validation Sentences"
   ]
  },
  {
   "cell_type": "code",
   "execution_count": 27,
   "id": "ffc06694",
   "metadata": {},
   "outputs": [
    {
     "name": "stdout",
     "output_type": "stream",
     "text": [
      "အ ရင် က လို ပါ ပဲ\n",
      "သစ် ပင် တွေ သစ် ရိပ် ပြို ကွဲ\n",
      "နေ က ပက် ကြား အက် တွေ ကို အား ဖြ ည့်\n",
      "ကတ္တ ရာ လမ်း မ တွေ ပျော် ကျ\n",
      "မြင် တွေ့ ရ သ မျှ အ ရာ ဝတ္တု တိုင်း က\n",
      "မီး တောက် ကို စား သောက် ထား ကြ သ လို မျိုး ။\n",
      "လ ရောင် ကို ခိုး ယူ လို့\n",
      "ဘ ဝ အ တွက် စိုက် ပျိုး ချင် သူ တွေ တောင်\n",
      "တံ လှပ် တော မှာ ရေ ရှာ ကြ\n",
      "သ ရက် ပွ င့် တို့ အ ခါ အ ခွ င့် သ င့် ကြ ။\n"
     ]
    }
   ],
   "source": [
    "!head ./valid.syl.clean | tee 10-sent.txt"
   ]
  },
  {
   "cell_type": "code",
   "execution_count": 28,
   "id": "c04bef1a",
   "metadata": {},
   "outputs": [
    {
     "name": "stdout",
     "output_type": "stream",
     "text": [
      "reading 2951 1-grams\n",
      "reading 91792 2-grams\n",
      "reading 34795 3-grams\n",
      "skipping 18622 4-grams\n",
      "skipping 12054 5-grams\n",
      "အ ရင် က လို ပါ ပဲ\n",
      "\tp( အ | <s> ) \t= [2gram] 0.08676329 [ -1.061664 ]\n",
      "\tp( ရင် | အ ...) \t= [3gram] 0.002172436 [ -2.663053 ]\n",
      "\tp( က | ရင် ...) \t= [3gram] 0.05565819 [ -1.254471 ]\n",
      "\tp( လို | က ...) \t= [2gram] 0.003825127 [ -2.417354 ]\n",
      "\tp( ပါ | လို ...) \t= [2gram] 0.01120699 [ -1.950511 ]\n",
      "\tp( ပဲ | ပါ ...) \t= [3gram] 0.2522418 [ -0.5981829 ]\n",
      "\tp( </s> | ပဲ ...) \t= [3gram] 0.438643 [ -0.3578888 ]\n",
      "1 sentences, 6 words, 0 OOVs\n",
      "0 zeroprobs, logprob= -10.30312 ppl= 29.63978 ppl1= 52.14197\n",
      "\n",
      "သစ် ပင် တွေ သစ် ရိပ် ပြို ကွဲ\n",
      "\tp( သစ် | <s> ) \t= [2gram] 0.003010204 [ -2.521404 ]\n",
      "\tp( ပင် | သစ် ...) \t= [3gram] 0.3021654 [ -0.5197553 ]\n",
      "\tp( တွေ | ပင် ...) \t= [3gram] 0.1011279 [ -0.9951288 ]\n",
      "\tp( သစ် | တွေ ...) \t= [2gram] 0.0009038516 [ -3.043903 ]\n",
      "\tp( ရိပ် | သစ် ...) \t= [2gram] 0.006868612 [ -2.163131 ]\n",
      "\tp( ပြို | ရိပ် ...) \t= [1gram] 0.0001159749 [ -3.935636 ]\n",
      "\tp( ကွဲ | ပြို ...) \t= [2gram] 0.06018524 [ -1.22051 ]\n",
      "\tp( </s> | ကွဲ ...) \t= [2gram] 0.04611826 [ -1.336127 ]\n",
      "1 sentences, 7 words, 0 OOVs\n",
      "0 zeroprobs, logprob= -15.7356 ppl= 92.67218 ppl1= 176.9873\n",
      "\n",
      "နေ က ပက် ကြား အက် တွေ ကို အား ဖြ ည့်\n",
      "\tp( နေ | <s> ) \t= [2gram] 0.007106273 [ -2.148358 ]\n",
      "\tp( က | နေ ...) \t= [3gram] 0.004060327 [ -2.391439 ]\n",
      "\tp( ပက် | က ...) \t= [1gram] 5.294256e-05 [ -4.276195 ]\n",
      "\tp( ကြား | ပက် ...) \t= [2gram] 0.02535333 [ -1.595965 ]\n",
      "\tp( အက် | ကြား ...) \t= [3gram] 0.3950259 [ -0.4033744 ]\n",
      "\tp( တွေ | အက် ...) \t= [1gram] 0.003845137 [ -2.415088 ]\n",
      "\tp( ကို | တွေ ...) \t= [2gram] 0.06073373 [ -1.21657 ]\n",
      "\tp( အား | ကို ...) \t= [2gram] 0.001614352 [ -2.792002 ]\n",
      "\tp( ဖြ | အား ...) \t= [2gram] 0.008921395 [ -2.049567 ]\n",
      "\tp( ည့် | ဖြ ...) \t= [3gram] 0.3244356 [ -0.4888715 ]\n",
      "\tp( </s> | ည့် ...) \t= [3gram] 0.05207689 [ -1.283355 ]\n",
      "1 sentences, 10 words, 0 OOVs\n",
      "0 zeroprobs, logprob= -21.06079 ppl= 82.15175 ppl1= 127.667\n",
      "\n",
      "ကတ္တ ရာ လမ်း မ တွေ ပျော် ကျ\n",
      "\tp( ကတ္တ | <s> ) \t= [2gram] 8.460496e-06 [ -5.072604 ]\n",
      "\tp( ရာ | ကတ္တ ...) \t= [2gram] 0.4381467 [ -0.3583805 ]\n",
      "\tp( လမ်း | ရာ ...) \t= [2gram] 0.006487823 [ -2.187901 ]\n",
      "\tp( မ | လမ်း ...) \t= [3gram] 0.1140958 [ -0.9427303 ]\n",
      "\tp( တွေ | မ ...) \t= [3gram] 0.05899172 [ -1.229209 ]\n",
      "\tp( ပျော် | တွေ ...) \t= [2gram] 0.0008829051 [ -3.054086 ]\n",
      "\tp( ကျ | ပျော် ...) \t= [2gram] 0.001675656 [ -2.775815 ]\n",
      "\tp( </s> | ကျ ...) \t= [2gram] 0.0562041 [ -1.250232 ]\n",
      "1 sentences, 7 words, 0 OOVs\n",
      "0 zeroprobs, logprob= -16.87096 ppl= 128.4901 ppl1= 257.1206\n",
      "\n",
      "မြင် တွေ့ ရ သ မျှ အ ရာ ဝတ္တု တိုင်း က\n",
      "\tp( မြင် | <s> ) \t= [2gram] 0.002162215 [ -2.665101 ]\n",
      "\tp( တွေ့ | မြင် ...) \t= [3gram] 0.0441661 [ -1.354911 ]\n",
      "\tp( ရ | တွေ့ ...) \t= [2gram] 0.07969426 [ -1.098573 ]\n",
      "\tp( သ | ရ ...) \t= [2gram] 0.01766091 [ -1.752987 ]\n",
      "\tp( မျှ | သ ...) \t= [3gram] 0.0472745 [ -1.325373 ]\n",
      "\tp( အ | မျှ ...) \t= [3gram] 0.07673438 [ -1.11501 ]\n",
      "\tp( ရာ | အ ...) \t= [2gram] 0.009616013 [ -2.017005 ]\n",
      "\tp( ဝတ္တု | ရာ ...) \t= [1gram] 3.750425e-06 [ -5.42592 ]\n",
      "\tp( တိုင်း | ဝတ္တု ...) \t= [1gram] 0.001126739 [ -2.948177 ]\n",
      "\tp( က | တိုင်း ...) \t= [2gram] 0.01227142 [ -1.911105 ]\n",
      "\tp( </s> | က ...) \t= [3gram] 0.1891433 [ -0.7232091 ]\n",
      "1 sentences, 10 words, 0 OOVs\n",
      "0 zeroprobs, logprob= -22.33737 ppl= 107.3174 ppl1= 171.292\n",
      "\n",
      "မီး တောက် ကို စား သောက် ထား ကြ သ လို မျိုး ။\n",
      "\tp( မီး | <s> ) \t= [2gram] 0.002358685 [ -2.62733 ]\n",
      "\tp( တောက် | မီး ...) \t= [3gram] 0.08242311 [ -1.083951 ]\n",
      "\tp( ကို | တောက် ...) \t= [2gram] 0.004829029 [ -2.31614 ]\n",
      "\tp( စား | ကို ...) \t= [2gram] 0.003362986 [ -2.473275 ]\n",
      "\tp( သောက် | စား ...) \t= [2gram] 0.006259203 [ -2.203481 ]\n",
      "\tp( ထား | သောက် ...) \t= [2gram] 0.003086777 [ -2.510495 ]\n",
      "\tp( ကြ | ထား ...) \t= [2gram] 0.009888693 [ -2.004861 ]\n",
      "\tp( သ | ကြ ...) \t= [2gram] 0.009667626 [ -2.01468 ]\n",
      "\tp( လို | သ ...) \t= [3gram] 0.1210185 [ -0.9171482 ]\n",
      "\tp( မျိုး | လို ...) \t= [3gram] 0.05647679 [ -1.24813 ]\n",
      "\tp( ။ | မျိုး ...) \t= [2gram] 0.01229677 [ -1.910209 ]\n",
      "\tp( </s> | ။ ...) \t= [3gram] 0.9301973 [ -0.03142492 ]\n",
      "1 sentences, 11 words, 0 OOVs\n",
      "0 zeroprobs, logprob= -21.34112 ppl= 60.03812 ppl1= 87.11687\n",
      "\n",
      "လ ရောင် ကို ခိုး ယူ လို့\n",
      "\tp( လ | <s> ) \t= [2gram] 0.003387997 [ -2.470057 ]\n",
      "\tp( ရောင် | လ ...) \t= [3gram] 0.08744662 [ -1.058257 ]\n",
      "\tp( ကို | ရောင် ...) \t= [2gram] 0.01357619 [ -1.867222 ]\n",
      "\tp( ခိုး | ကို ...) \t= [2gram] 0.0003424092 [ -3.465455 ]\n",
      "\tp( ယူ | ခိုး ...) \t= [2gram] 0.009400665 [ -2.026841 ]\n",
      "\tp( လို့ | ယူ ...) \t= [2gram] 0.0326669 [ -1.485892 ]\n",
      "\tp( </s> | လို့ ...) \t= [3gram] 0.4250739 [ -0.3715355 ]\n",
      "1 sentences, 6 words, 0 OOVs\n",
      "0 zeroprobs, logprob= -12.74526 ppl= 66.18375 ppl1= 133.1098\n",
      "\n",
      "ဘ ဝ အ တွက် စိုက် ပျိုး ချင် သူ တွေ တောင်\n",
      "\tp( ဘ | <s> ) \t= [2gram] 0.007678916 [ -2.1147 ]\n",
      "\tp( ဝ | ဘ ...) \t= [3gram] 0.8789281 [ -0.05604666 ]\n",
      "\tp( အ | ဝ ...) \t= [3gram] 0.04706478 [ -1.327304 ]\n",
      "\tp( တွက် | အ ...) \t= [3gram] 0.01288997 [ -1.889748 ]\n",
      "\tp( စိုက် | တွက် ...) \t= [1gram] 0.0001987081 [ -3.701784 ]\n",
      "\tp( ပျိုး | စိုက် ...) \t= [2gram] 0.06562768 [ -1.182913 ]\n",
      "\tp( ချင် | ပျိုး ...) \t= [1gram] 0.0008794864 [ -3.055771 ]\n",
      "\tp( သူ | ချင် ...) \t= [2gram] 0.0116671 [ -1.933037 ]\n",
      "\tp( တွေ | သူ ...) \t= [2gram] 0.02502141 [ -1.601688 ]\n",
      "\tp( တောင် | တွေ ...) \t= [2gram] 0.001909819 [ -2.719008 ]\n",
      "\tp( </s> | တောင် ...) \t= [3gram] 0.1515477 [ -0.8194507 ]\n",
      "1 sentences, 10 words, 0 OOVs\n",
      "0 zeroprobs, logprob= -20.40145 ppl= 71.56115 ppl1= 109.6845\n",
      "\n",
      "တံ လှပ် တော မှာ ရေ ရှာ ကြ\n",
      "\tp( တံ | <s> ) \t= [2gram] 0.001276765 [ -2.893889 ]\n",
      "\tp( လှပ် | တံ ...) \t= [1gram] 1.208332e-05 [ -4.917814 ]\n",
      "\tp( တော | လှပ် ...) \t= [1gram] 0.0007531891 [ -3.123096 ]\n",
      "\tp( မှာ | တော ...) \t= [2gram] 0.05327839 [ -1.273449 ]\n",
      "\tp( ရေ | မှာ ...) \t= [2gram] 0.001867372 [ -2.728769 ]\n",
      "\tp( ရှာ | ရေ ...) \t= [2gram] 0.001474128 [ -2.831465 ]\n",
      "\tp( ကြ | ရှာ ...) \t= [2gram] 0.04221851 [ -1.374497 ]\n",
      "\tp( </s> | ကြ ...) \t= [3gram] 0.1845948 [ -0.7337806 ]\n",
      "1 sentences, 7 words, 0 OOVs\n",
      "0 zeroprobs, logprob= -19.87676 ppl= 305.2073 ppl1= 691.0938\n",
      "\n",
      "သ ရက် ပွ င့် တို့ အ ခါ အ ခွ င့် သ င့် ကြ ။\n",
      "\tp( သ | <s> ) \t= [2gram] 0.01102377 [ -1.95767 ]\n",
      "\tp( ရက် | သ ...) \t= [3gram] 0.008448294 [ -2.073231 ]\n",
      "\tp( ပွ | ရက် ...) \t= [1gram] 0.0004977945 [ -3.30295 ]\n",
      "\tp( င့် | ပွ ...) \t= [2gram] 0.8458624 [ -0.07270028 ]\n",
      "\tp( တို့ | င့် ...) \t= [2gram] 0.002461235 [ -2.608847 ]\n",
      "\tp( အ | တို့ ...) \t= [2gram] 0.02813507 [ -1.550752 ]\n",
      "\tp( ခါ | အ ...) \t= [2gram] 0.006149379 [ -2.211169 ]\n",
      "\tp( အ | ခါ ...) \t= [3gram] 0.02523045 [ -1.598075 ]\n",
      "\tp( ခွ | အ ...) \t= [2gram] 0.001912588 [ -2.718379 ]\n",
      "\tp( င့် | ခွ ...) \t= [3gram] 0.9517352 [ -0.02148387 ]\n",
      "\tp( သ | င့် ...) \t= [3gram] 0.003608784 [ -2.442639 ]\n",
      "\tp( င့် | သ ...) \t= [3gram] 0.1374822 [ -0.8617535 ]\n",
      "\tp( ကြ | င့် ...) \t= [2gram] 0.00450219 [ -2.346576 ]\n",
      "\tp( ။ | ကြ ...) \t= [2gram] 0.03059838 [ -1.514302 ]\n",
      "\tp( </s> | ။ ...) \t= [3gram] 0.9407374 [ -0.0265316 ]\n",
      "1 sentences, 14 words, 0 OOVs\n",
      "0 zeroprobs, logprob= -25.30706 ppl= 48.65609 ppl1= 64.21656\n",
      "\n",
      "file ./10-sent.txt: 10 sentences, 88 words, 0 OOVs\n",
      "0 zeroprobs, logprob= -185.9795 ppl= 79.02233 ppl1= 129.8384\n"
     ]
    }
   ],
   "source": [
    "!ngram -lm ./mypoetry-5gram.lm -ppl ./10-sent.txt -debug 2"
   ]
  },
  {
   "cell_type": "markdown",
   "id": "b54b023e",
   "metadata": {},
   "source": [
    "Note: 0 OOVs. This is because we are using syllable units.  "
   ]
  },
  {
   "cell_type": "markdown",
   "id": "fc3b14bd",
   "metadata": {},
   "source": [
    "## Random Sentence Generation with 5-gram LM\n",
    "\n",
    "5-gram language model ကို သုံးပြီးတော့ ကဗျာ စပ်ခိုင်းကြည့်ရအောင် ... :)"
   ]
  },
  {
   "cell_type": "code",
   "execution_count": 32,
   "id": "606b329e",
   "metadata": {},
   "outputs": [
    {
     "name": "stdout",
     "output_type": "stream",
     "text": [
      "မင်း အုန်း လက် ခြုံ ညာဉ် ကို ဖမ်း ။\n",
      "ကျွန် တော့် ၊ ကယ် လှ မြေ\n",
      "တစ် စ ရိုက်\n",
      "အ သိ ရ တ နာ ခံ မှတ်\n",
      "ဘာ ကြောင့်\n",
      "အ မိုး စာ ရင် မှာ ကာ\n",
      "မ ဗေ ဒါ က အ ရောင် ပီ နီ ပြူ ပေါ ဂျိုင်း ကင် ခံ များ\n",
      "သူ ယောင် ဆောင်\n",
      "လော က ငို ကြ လော့\n",
      "ဧ ည့် သည် တ မွဲ အ တွေး\n"
     ]
    }
   ],
   "source": [
    "!ngram -lm ./mypoetry-5gram.lm -gen 10"
   ]
  },
  {
   "cell_type": "code",
   "execution_count": 33,
   "id": "b4371125",
   "metadata": {},
   "outputs": [
    {
     "name": "stdout",
     "output_type": "stream",
     "text": [
      "ရေ ငှက် လော ကီ ခြေ မ လေ့ ။\n",
      "အ ညာ လှေ ငယ် ငယ် တို့\n",
      "သူ့ အ စဉ်\n",
      "ရောင် တော် လှုပ် လှုပ် နှ င့်\n",
      "ဦး ခေါင်း ပြီ ပေါ့\n",
      "ငါ တို့ တယ် ။\n"
     ]
    }
   ],
   "source": [
    "!ngram -lm ./mypoetry-5gram.lm -gen 6"
   ]
  },
  {
   "cell_type": "code",
   "execution_count": 34,
   "id": "6bb17584",
   "metadata": {},
   "outputs": [
    {
     "name": "stdout",
     "output_type": "stream",
     "text": [
      "အိပ် ရာ ဖြိုက် မ လျှောက် ချင် လည်း မ ချာ ဒုက္ခ အ တင်း ၊ ဟု\n",
      "ပြည် ခွင် မြင်\n",
      "အ သွား တယ်\n"
     ]
    }
   ],
   "source": [
    "!ngram -lm ./mypoetry-5gram.lm -gen 3"
   ]
  },
  {
   "cell_type": "code",
   "execution_count": 37,
   "id": "0e0ee8bb",
   "metadata": {},
   "outputs": [
    {
     "name": "stdout",
     "output_type": "stream",
     "text": [
      "ယာ လိုက် ချင် ဒီ ။\n",
      "ဘယ် ညာ ပေး ကြ\n",
      "ကောင်း စွာ နိုး ဖြင့်\n",
      "ပ ညာ န ဘယ် ကို မှန် မှန် မ မှား လျက်\n",
      "ပ ထ မ ပြောင်း တည် . အီ ရွှင် ချို ပေါ် မျှော် ဘောင် ဘင် ခတ် ရေ ကျ ခဲ့\n",
      "လှမ်း\n",
      "ကို ယ့် အိပ် မွှေး ၏ ခွဲ လား နှစ် မျှင် နိုင် ပြ ည့် စွာ ရည် ကြို ကာ နှ င့်\n"
     ]
    }
   ],
   "source": [
    "!ngram -lm ./mypoetry-5gram.lm -gen 7"
   ]
  },
  {
   "cell_type": "code",
   "execution_count": null,
   "id": "d19d8ed4",
   "metadata": {},
   "outputs": [],
   "source": []
  }
 ],
 "metadata": {
  "kernelspec": {
   "display_name": "Python 3",
   "language": "python",
   "name": "python3"
  },
  "language_info": {
   "codemirror_mode": {
    "name": "ipython",
    "version": 3
   },
   "file_extension": ".py",
   "mimetype": "text/x-python",
   "name": "python",
   "nbconvert_exporter": "python",
   "pygments_lexer": "ipython3",
   "version": "3.7.4"
  }
 },
 "nbformat": 4,
 "nbformat_minor": 5
}
